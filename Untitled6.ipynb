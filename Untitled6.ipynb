{
  "nbformat": 4,
  "nbformat_minor": 0,
  "metadata": {
    "colab": {
      "name": "Untitled6.ipynb",
      "provenance": []
    },
    "kernelspec": {
      "name": "python3",
      "display_name": "Python 3"
    }
  },
  "cells": [
    {
      "cell_type": "code",
      "metadata": {
        "id": "Ad8YMZkIZoC5"
      },
      "source": [
        "import pandas as pd\r\n",
        "import numpy as np\r\n",
        "import matplotlib.pyplot as plt\r\n",
        "\r\n",
        "%matplotlib inline\r\n",
        "\r\n",
        "data = pd.read_csv('train.csv')"
      ],
      "execution_count": 131,
      "outputs": []
    },
    {
      "cell_type": "code",
      "metadata": {
        "colab": {
          "base_uri": "https://localhost:8080/",
          "height": 195
        },
        "id": "Wk5DQm39Z_nt",
        "outputId": "3a324421-13b8-4156-c255-550d62486869"
      },
      "source": [
        "data.head()\r\n"
      ],
      "execution_count": 132,
      "outputs": [
        {
          "output_type": "execute_result",
          "data": {
            "text/html": [
              "<div>\n",
              "<style scoped>\n",
              "    .dataframe tbody tr th:only-of-type {\n",
              "        vertical-align: middle;\n",
              "    }\n",
              "\n",
              "    .dataframe tbody tr th {\n",
              "        vertical-align: top;\n",
              "    }\n",
              "\n",
              "    .dataframe thead th {\n",
              "        text-align: right;\n",
              "    }\n",
              "</style>\n",
              "<table border=\"1\" class=\"dataframe\">\n",
              "  <thead>\n",
              "    <tr style=\"text-align: right;\">\n",
              "      <th></th>\n",
              "      <th>PassengerId</th>\n",
              "      <th>Survived</th>\n",
              "      <th>Pclass</th>\n",
              "      <th>Name</th>\n",
              "      <th>Sex</th>\n",
              "      <th>Age</th>\n",
              "      <th>SibSp</th>\n",
              "      <th>Parch</th>\n",
              "      <th>Ticket</th>\n",
              "      <th>Fare</th>\n",
              "      <th>Cabin</th>\n",
              "      <th>Embarked</th>\n",
              "    </tr>\n",
              "  </thead>\n",
              "  <tbody>\n",
              "    <tr>\n",
              "      <th>0</th>\n",
              "      <td>1</td>\n",
              "      <td>0</td>\n",
              "      <td>3</td>\n",
              "      <td>Braund, Mr. Owen Harris</td>\n",
              "      <td>male</td>\n",
              "      <td>22.0</td>\n",
              "      <td>1</td>\n",
              "      <td>0</td>\n",
              "      <td>A/5 21171</td>\n",
              "      <td>7.2500</td>\n",
              "      <td>NaN</td>\n",
              "      <td>S</td>\n",
              "    </tr>\n",
              "    <tr>\n",
              "      <th>1</th>\n",
              "      <td>2</td>\n",
              "      <td>1</td>\n",
              "      <td>1</td>\n",
              "      <td>Cumings, Mrs. John Bradley (Florence Briggs Th...</td>\n",
              "      <td>female</td>\n",
              "      <td>38.0</td>\n",
              "      <td>1</td>\n",
              "      <td>0</td>\n",
              "      <td>PC 17599</td>\n",
              "      <td>71.2833</td>\n",
              "      <td>C85</td>\n",
              "      <td>C</td>\n",
              "    </tr>\n",
              "    <tr>\n",
              "      <th>2</th>\n",
              "      <td>3</td>\n",
              "      <td>1</td>\n",
              "      <td>3</td>\n",
              "      <td>Heikkinen, Miss. Laina</td>\n",
              "      <td>female</td>\n",
              "      <td>26.0</td>\n",
              "      <td>0</td>\n",
              "      <td>0</td>\n",
              "      <td>STON/O2. 3101282</td>\n",
              "      <td>7.9250</td>\n",
              "      <td>NaN</td>\n",
              "      <td>S</td>\n",
              "    </tr>\n",
              "    <tr>\n",
              "      <th>3</th>\n",
              "      <td>4</td>\n",
              "      <td>1</td>\n",
              "      <td>1</td>\n",
              "      <td>Futrelle, Mrs. Jacques Heath (Lily May Peel)</td>\n",
              "      <td>female</td>\n",
              "      <td>35.0</td>\n",
              "      <td>1</td>\n",
              "      <td>0</td>\n",
              "      <td>113803</td>\n",
              "      <td>53.1000</td>\n",
              "      <td>C123</td>\n",
              "      <td>S</td>\n",
              "    </tr>\n",
              "    <tr>\n",
              "      <th>4</th>\n",
              "      <td>5</td>\n",
              "      <td>0</td>\n",
              "      <td>3</td>\n",
              "      <td>Allen, Mr. William Henry</td>\n",
              "      <td>male</td>\n",
              "      <td>35.0</td>\n",
              "      <td>0</td>\n",
              "      <td>0</td>\n",
              "      <td>373450</td>\n",
              "      <td>8.0500</td>\n",
              "      <td>NaN</td>\n",
              "      <td>S</td>\n",
              "    </tr>\n",
              "  </tbody>\n",
              "</table>\n",
              "</div>"
            ],
            "text/plain": [
              "   PassengerId  Survived  Pclass  ...     Fare Cabin  Embarked\n",
              "0            1         0       3  ...   7.2500   NaN         S\n",
              "1            2         1       1  ...  71.2833   C85         C\n",
              "2            3         1       3  ...   7.9250   NaN         S\n",
              "3            4         1       1  ...  53.1000  C123         S\n",
              "4            5         0       3  ...   8.0500   NaN         S\n",
              "\n",
              "[5 rows x 12 columns]"
            ]
          },
          "metadata": {
            "tags": []
          },
          "execution_count": 132
        }
      ]
    },
    {
      "cell_type": "code",
      "metadata": {
        "colab": {
          "base_uri": "https://localhost:8080/",
          "height": 284
        },
        "id": "LpUQNRMkaEi9",
        "outputId": "3a8d3cea-d52c-4881-870d-438492b7ea8d"
      },
      "source": [
        "data.describe()\r\n",
        "\r\n",
        "\r\n"
      ],
      "execution_count": 133,
      "outputs": [
        {
          "output_type": "execute_result",
          "data": {
            "text/html": [
              "<div>\n",
              "<style scoped>\n",
              "    .dataframe tbody tr th:only-of-type {\n",
              "        vertical-align: middle;\n",
              "    }\n",
              "\n",
              "    .dataframe tbody tr th {\n",
              "        vertical-align: top;\n",
              "    }\n",
              "\n",
              "    .dataframe thead th {\n",
              "        text-align: right;\n",
              "    }\n",
              "</style>\n",
              "<table border=\"1\" class=\"dataframe\">\n",
              "  <thead>\n",
              "    <tr style=\"text-align: right;\">\n",
              "      <th></th>\n",
              "      <th>PassengerId</th>\n",
              "      <th>Survived</th>\n",
              "      <th>Pclass</th>\n",
              "      <th>Age</th>\n",
              "      <th>SibSp</th>\n",
              "      <th>Parch</th>\n",
              "      <th>Fare</th>\n",
              "    </tr>\n",
              "  </thead>\n",
              "  <tbody>\n",
              "    <tr>\n",
              "      <th>count</th>\n",
              "      <td>891.000000</td>\n",
              "      <td>891.000000</td>\n",
              "      <td>891.000000</td>\n",
              "      <td>714.000000</td>\n",
              "      <td>891.000000</td>\n",
              "      <td>891.000000</td>\n",
              "      <td>891.000000</td>\n",
              "    </tr>\n",
              "    <tr>\n",
              "      <th>mean</th>\n",
              "      <td>446.000000</td>\n",
              "      <td>0.383838</td>\n",
              "      <td>2.308642</td>\n",
              "      <td>29.699118</td>\n",
              "      <td>0.523008</td>\n",
              "      <td>0.381594</td>\n",
              "      <td>32.204208</td>\n",
              "    </tr>\n",
              "    <tr>\n",
              "      <th>std</th>\n",
              "      <td>257.353842</td>\n",
              "      <td>0.486592</td>\n",
              "      <td>0.836071</td>\n",
              "      <td>14.526497</td>\n",
              "      <td>1.102743</td>\n",
              "      <td>0.806057</td>\n",
              "      <td>49.693429</td>\n",
              "    </tr>\n",
              "    <tr>\n",
              "      <th>min</th>\n",
              "      <td>1.000000</td>\n",
              "      <td>0.000000</td>\n",
              "      <td>1.000000</td>\n",
              "      <td>0.420000</td>\n",
              "      <td>0.000000</td>\n",
              "      <td>0.000000</td>\n",
              "      <td>0.000000</td>\n",
              "    </tr>\n",
              "    <tr>\n",
              "      <th>25%</th>\n",
              "      <td>223.500000</td>\n",
              "      <td>0.000000</td>\n",
              "      <td>2.000000</td>\n",
              "      <td>20.125000</td>\n",
              "      <td>0.000000</td>\n",
              "      <td>0.000000</td>\n",
              "      <td>7.910400</td>\n",
              "    </tr>\n",
              "    <tr>\n",
              "      <th>50%</th>\n",
              "      <td>446.000000</td>\n",
              "      <td>0.000000</td>\n",
              "      <td>3.000000</td>\n",
              "      <td>28.000000</td>\n",
              "      <td>0.000000</td>\n",
              "      <td>0.000000</td>\n",
              "      <td>14.454200</td>\n",
              "    </tr>\n",
              "    <tr>\n",
              "      <th>75%</th>\n",
              "      <td>668.500000</td>\n",
              "      <td>1.000000</td>\n",
              "      <td>3.000000</td>\n",
              "      <td>38.000000</td>\n",
              "      <td>1.000000</td>\n",
              "      <td>0.000000</td>\n",
              "      <td>31.000000</td>\n",
              "    </tr>\n",
              "    <tr>\n",
              "      <th>max</th>\n",
              "      <td>891.000000</td>\n",
              "      <td>1.000000</td>\n",
              "      <td>3.000000</td>\n",
              "      <td>80.000000</td>\n",
              "      <td>8.000000</td>\n",
              "      <td>6.000000</td>\n",
              "      <td>512.329200</td>\n",
              "    </tr>\n",
              "  </tbody>\n",
              "</table>\n",
              "</div>"
            ],
            "text/plain": [
              "       PassengerId    Survived      Pclass  ...       SibSp       Parch        Fare\n",
              "count   891.000000  891.000000  891.000000  ...  891.000000  891.000000  891.000000\n",
              "mean    446.000000    0.383838    2.308642  ...    0.523008    0.381594   32.204208\n",
              "std     257.353842    0.486592    0.836071  ...    1.102743    0.806057   49.693429\n",
              "min       1.000000    0.000000    1.000000  ...    0.000000    0.000000    0.000000\n",
              "25%     223.500000    0.000000    2.000000  ...    0.000000    0.000000    7.910400\n",
              "50%     446.000000    0.000000    3.000000  ...    0.000000    0.000000   14.454200\n",
              "75%     668.500000    1.000000    3.000000  ...    1.000000    0.000000   31.000000\n",
              "max     891.000000    1.000000    3.000000  ...    8.000000    6.000000  512.329200\n",
              "\n",
              "[8 rows x 7 columns]"
            ]
          },
          "metadata": {
            "tags": []
          },
          "execution_count": 133
        }
      ]
    },
    {
      "cell_type": "code",
      "metadata": {
        "colab": {
          "base_uri": "https://localhost:8080/",
          "height": 265
        },
        "id": "timNnDnnaRpJ",
        "outputId": "acdc1ed8-8b1a-4093-f826-fe281c31fa5f"
      },
      "source": [
        "fig = plt.figure(figsize=(10,4))\r\n",
        "fig.add_subplot(121)\r\n",
        "data.Survived[data['Sex'] == 'male'].value_counts().plot(kind='pie')\r\n",
        "fig.add_subplot(122)\r\n",
        "data.Survived[data['Sex'] == 'female'].value_counts().plot(kind='pie')"
      ],
      "execution_count": 134,
      "outputs": [
        {
          "output_type": "execute_result",
          "data": {
            "text/plain": [
              "<matplotlib.axes._subplots.AxesSubplot at 0x7fe363833470>"
            ]
          },
          "metadata": {
            "tags": []
          },
          "execution_count": 134
        },
        {
          "output_type": "display_data",
          "data": {
            "image/png": "[encoded data removed]",
            "text/plain": [
              "<Figure size 720x288 with 2 Axes>"
            ]
          },
          "metadata": {
            "tags": []
          }
        }
      ]
    },
    {
      "cell_type": "code",
      "metadata": {
        "id": "I3MZevf_bfZP"
      },
      "source": [
        "from sklearn.preprocessing import LabelEncoder\r\n",
        "data['Sex'] = LabelEncoder().fit_transform(data['Sex'])"
      ],
      "execution_count": 135,
      "outputs": []
    },
    {
      "cell_type": "code",
      "metadata": {
        "colab": {
          "base_uri": "https://localhost:8080/"
        },
        "id": "rSn-pTsBb4G_",
        "outputId": "2aad69d9-8ca7-4561-9e91-64a73a22779f"
      },
      "source": [
        "data['Name'] = data['Name'].map(lambda x: x.split(',')[1].split('.')[0].strip())\r\n",
        "titles = data['Name'].unique()\r\n",
        "titles"
      ],
      "execution_count": 136,
      "outputs": [
        {
          "output_type": "execute_result",
          "data": {
            "text/plain": [
              "array(['Mr', 'Mrs', 'Miss', 'Master', 'Don', 'Rev', 'Dr', 'Mme', 'Ms',\n",
              "       'Major', 'Lady', 'Sir', 'Mlle', 'Col', 'Capt', 'the Countess',\n",
              "       'Jonkheer'], dtype=object)"
            ]
          },
          "metadata": {
            "tags": []
          },
          "execution_count": 136
        }
      ]
    },
    {
      "cell_type": "code",
      "metadata": {
        "colab": {
          "base_uri": "https://localhost:8080/",
          "height": 195
        },
        "id": "vBlcii_7cLnV",
        "outputId": "0ad3e4ea-8af7-4b16-d416-8d01fc62a375"
      },
      "source": [
        "\r\n",
        "data['Age'].fillna(-1, inplace=True)\r\n",
        "\r\n",
        "medians = dict()\r\n",
        "for title in titles:\r\n",
        "    median = data.Age[(data[\"Age\"] != -1) & (data['Name'] == title)].median()\r\n",
        "    medians[title] = median\r\n",
        "    \r\n",
        "for index, row in data.iterrows():\r\n",
        "    if row['Age'] == -1:\r\n",
        "        data.loc[index, 'Age'] = medians[row['Name']]\r\n",
        "\r\n",
        "data.head()"
      ],
      "execution_count": 137,
      "outputs": [
        {
          "output_type": "execute_result",
          "data": {
            "text/html": [
              "<div>\n",
              "<style scoped>\n",
              "    .dataframe tbody tr th:only-of-type {\n",
              "        vertical-align: middle;\n",
              "    }\n",
              "\n",
              "    .dataframe tbody tr th {\n",
              "        vertical-align: top;\n",
              "    }\n",
              "\n",
              "    .dataframe thead th {\n",
              "        text-align: right;\n",
              "    }\n",
              "</style>\n",
              "<table border=\"1\" class=\"dataframe\">\n",
              "  <thead>\n",
              "    <tr style=\"text-align: right;\">\n",
              "      <th></th>\n",
              "      <th>PassengerId</th>\n",
              "      <th>Survived</th>\n",
              "      <th>Pclass</th>\n",
              "      <th>Name</th>\n",
              "      <th>Sex</th>\n",
              "      <th>Age</th>\n",
              "      <th>SibSp</th>\n",
              "      <th>Parch</th>\n",
              "      <th>Ticket</th>\n",
              "      <th>Fare</th>\n",
              "      <th>Cabin</th>\n",
              "      <th>Embarked</th>\n",
              "    </tr>\n",
              "  </thead>\n",
              "  <tbody>\n",
              "    <tr>\n",
              "      <th>0</th>\n",
              "      <td>1</td>\n",
              "      <td>0</td>\n",
              "      <td>3</td>\n",
              "      <td>Mr</td>\n",
              "      <td>1</td>\n",
              "      <td>22.0</td>\n",
              "      <td>1</td>\n",
              "      <td>0</td>\n",
              "      <td>A/5 21171</td>\n",
              "      <td>7.2500</td>\n",
              "      <td>NaN</td>\n",
              "      <td>S</td>\n",
              "    </tr>\n",
              "    <tr>\n",
              "      <th>1</th>\n",
              "      <td>2</td>\n",
              "      <td>1</td>\n",
              "      <td>1</td>\n",
              "      <td>Mrs</td>\n",
              "      <td>0</td>\n",
              "      <td>38.0</td>\n",
              "      <td>1</td>\n",
              "      <td>0</td>\n",
              "      <td>PC 17599</td>\n",
              "      <td>71.2833</td>\n",
              "      <td>C85</td>\n",
              "      <td>C</td>\n",
              "    </tr>\n",
              "    <tr>\n",
              "      <th>2</th>\n",
              "      <td>3</td>\n",
              "      <td>1</td>\n",
              "      <td>3</td>\n",
              "      <td>Miss</td>\n",
              "      <td>0</td>\n",
              "      <td>26.0</td>\n",
              "      <td>0</td>\n",
              "      <td>0</td>\n",
              "      <td>STON/O2. 3101282</td>\n",
              "      <td>7.9250</td>\n",
              "      <td>NaN</td>\n",
              "      <td>S</td>\n",
              "    </tr>\n",
              "    <tr>\n",
              "      <th>3</th>\n",
              "      <td>4</td>\n",
              "      <td>1</td>\n",
              "      <td>1</td>\n",
              "      <td>Mrs</td>\n",
              "      <td>0</td>\n",
              "      <td>35.0</td>\n",
              "      <td>1</td>\n",
              "      <td>0</td>\n",
              "      <td>113803</td>\n",
              "      <td>53.1000</td>\n",
              "      <td>C123</td>\n",
              "      <td>S</td>\n",
              "    </tr>\n",
              "    <tr>\n",
              "      <th>4</th>\n",
              "      <td>5</td>\n",
              "      <td>0</td>\n",
              "      <td>3</td>\n",
              "      <td>Mr</td>\n",
              "      <td>1</td>\n",
              "      <td>35.0</td>\n",
              "      <td>0</td>\n",
              "      <td>0</td>\n",
              "      <td>373450</td>\n",
              "      <td>8.0500</td>\n",
              "      <td>NaN</td>\n",
              "      <td>S</td>\n",
              "    </tr>\n",
              "  </tbody>\n",
              "</table>\n",
              "</div>"
            ],
            "text/plain": [
              "   PassengerId  Survived  Pclass  ...     Fare  Cabin  Embarked\n",
              "0            1         0       3  ...   7.2500    NaN         S\n",
              "1            2         1       1  ...  71.2833    C85         C\n",
              "2            3         1       3  ...   7.9250    NaN         S\n",
              "3            4         1       1  ...  53.1000   C123         S\n",
              "4            5         0       3  ...   8.0500    NaN         S\n",
              "\n",
              "[5 rows x 12 columns]"
            ]
          },
          "metadata": {
            "tags": []
          },
          "execution_count": 137
        }
      ]
    },
    {
      "cell_type": "code",
      "metadata": {
        "colab": {
          "base_uri": "https://localhost:8080/",
          "height": 373
        },
        "id": "3btuyknscSoR",
        "outputId": "0c1b053f-c1f6-4a36-fbdf-67e6224429fc"
      },
      "source": [
        "\r\n",
        "fig = plt.figure(figsize=(15,6))\r\n",
        "\r\n",
        "i=1\r\n",
        "for title in data['Name'].unique():\r\n",
        "    fig.add_subplot(3, 6, i)\r\n",
        "    plt.title('Title : {}'.format(title))\r\n",
        "    data.Survived[data['Name'] == title].value_counts().plot(kind='pie')\r\n",
        "    i += 1"
      ],
      "execution_count": 138,
      "outputs": [
        {
          "output_type": "display_data",
          "data": {
            "image/png": "[encoded data removed]",
            "text/plain": [
              "<Figure size 1080x432 with 17 Axes>"
            ]
          },
          "metadata": {
            "tags": []
          }
        }
      ]
    },
    {
      "cell_type": "code",
      "metadata": {
        "id": "RNc4ab5gcX4D"
      },
      "source": [
        "\r\n",
        "replacement = {\r\n",
        "    'Don': 0,\r\n",
        "    'Rev': 0,\r\n",
        "    'Jonkheer': 0,\r\n",
        "    'Capt': 0,\r\n",
        "    'Mr': 1,\r\n",
        "    'Dr': 2,\r\n",
        "    'Col': 3,\r\n",
        "    'Major': 3,\r\n",
        "    'Master': 4,\r\n",
        "    'Miss': 5,\r\n",
        "    'Mrs': 6,\r\n",
        "    'Mme': 7,\r\n",
        "    'Ms': 7,\r\n",
        "    'Mlle': 7,\r\n",
        "    'Sir': 7,\r\n",
        "    'Lady': 7,\r\n",
        "    'the Countess': 7\r\n",
        "}\r\n",
        "\r\n",
        "data['Name'] = data['Name'].apply(lambda x: replacement.get(x))\r\n",
        "\r\n",
        "from sklearn.preprocessing import StandardScaler\r\n",
        "data['Name'] = StandardScaler().fit_transform(data['Name'].values.reshape(-1, 1))"
      ],
      "execution_count": 139,
      "outputs": []
    },
    {
      "cell_type": "code",
      "metadata": {
        "colab": {
          "base_uri": "https://localhost:8080/",
          "height": 195
        },
        "id": "AswIlPyTcbgZ",
        "outputId": "c6ce467e-8f98-4380-c741-61d6ccd06b91"
      },
      "source": [
        "\r\n",
        "data.head()[['Pclass', 'Age', 'SibSp', 'Parch', 'Ticket', 'Cabin', 'Embarked']]"
      ],
      "execution_count": 140,
      "outputs": [
        {
          "output_type": "execute_result",
          "data": {
            "text/html": [
              "<div>\n",
              "<style scoped>\n",
              "    .dataframe tbody tr th:only-of-type {\n",
              "        vertical-align: middle;\n",
              "    }\n",
              "\n",
              "    .dataframe tbody tr th {\n",
              "        vertical-align: top;\n",
              "    }\n",
              "\n",
              "    .dataframe thead th {\n",
              "        text-align: right;\n",
              "    }\n",
              "</style>\n",
              "<table border=\"1\" class=\"dataframe\">\n",
              "  <thead>\n",
              "    <tr style=\"text-align: right;\">\n",
              "      <th></th>\n",
              "      <th>Pclass</th>\n",
              "      <th>Age</th>\n",
              "      <th>SibSp</th>\n",
              "      <th>Parch</th>\n",
              "      <th>Ticket</th>\n",
              "      <th>Cabin</th>\n",
              "      <th>Embarked</th>\n",
              "    </tr>\n",
              "  </thead>\n",
              "  <tbody>\n",
              "    <tr>\n",
              "      <th>0</th>\n",
              "      <td>3</td>\n",
              "      <td>22.0</td>\n",
              "      <td>1</td>\n",
              "      <td>0</td>\n",
              "      <td>A/5 21171</td>\n",
              "      <td>NaN</td>\n",
              "      <td>S</td>\n",
              "    </tr>\n",
              "    <tr>\n",
              "      <th>1</th>\n",
              "      <td>1</td>\n",
              "      <td>38.0</td>\n",
              "      <td>1</td>\n",
              "      <td>0</td>\n",
              "      <td>PC 17599</td>\n",
              "      <td>C85</td>\n",
              "      <td>C</td>\n",
              "    </tr>\n",
              "    <tr>\n",
              "      <th>2</th>\n",
              "      <td>3</td>\n",
              "      <td>26.0</td>\n",
              "      <td>0</td>\n",
              "      <td>0</td>\n",
              "      <td>STON/O2. 3101282</td>\n",
              "      <td>NaN</td>\n",
              "      <td>S</td>\n",
              "    </tr>\n",
              "    <tr>\n",
              "      <th>3</th>\n",
              "      <td>1</td>\n",
              "      <td>35.0</td>\n",
              "      <td>1</td>\n",
              "      <td>0</td>\n",
              "      <td>113803</td>\n",
              "      <td>C123</td>\n",
              "      <td>S</td>\n",
              "    </tr>\n",
              "    <tr>\n",
              "      <th>4</th>\n",
              "      <td>3</td>\n",
              "      <td>35.0</td>\n",
              "      <td>0</td>\n",
              "      <td>0</td>\n",
              "      <td>373450</td>\n",
              "      <td>NaN</td>\n",
              "      <td>S</td>\n",
              "    </tr>\n",
              "  </tbody>\n",
              "</table>\n",
              "</div>"
            ],
            "text/plain": [
              "   Pclass   Age  SibSp  Parch            Ticket Cabin Embarked\n",
              "0       3  22.0      1      0         A/5 21171   NaN        S\n",
              "1       1  38.0      1      0          PC 17599   C85        C\n",
              "2       3  26.0      0      0  STON/O2. 3101282   NaN        S\n",
              "3       1  35.0      1      0            113803  C123        S\n",
              "4       3  35.0      0      0            373450   NaN        S"
            ]
          },
          "metadata": {
            "tags": []
          },
          "execution_count": 140
        }
      ]
    },
    {
      "cell_type": "code",
      "metadata": {
        "id": "l4_yaIAOcjPo"
      },
      "source": [
        "data['Age'] = StandardScaler().fit_transform(data['Age'].values.reshape(-1, 1))"
      ],
      "execution_count": 141,
      "outputs": []
    },
    {
      "cell_type": "code",
      "metadata": {
        "id": "uK03W7MRcl1q"
      },
      "source": [
        "data['Fare'].fillna(-1, inplace=True)\r\n",
        "medians = dict()\r\n",
        "for pclass in data['Pclass'].unique():\r\n",
        "    median = data.Fare[(data[\"Fare\"] != -1) & (data['Pclass'] == pclass)].median()\r\n",
        "    medians[pclass] = median\r\n",
        "for index, row in data.iterrows():\r\n",
        "    if row['Fare'] == -1:\r\n",
        "        data.loc[index, 'Fare'] = medians[row['Pclass']]\r\n",
        "data['Fare'] = StandardScaler().fit_transform(data['Fare'].values.reshape(-1, 1))"
      ],
      "execution_count": 142,
      "outputs": []
    },
    {
      "cell_type": "code",
      "metadata": {
        "colab": {
          "base_uri": "https://localhost:8080/",
          "height": 264
        },
        "id": "QQOCsrMdcotG",
        "outputId": "5c5dc400-2d19-4127-9d42-c47deb207726"
      },
      "source": [
        "fig = plt.figure(figsize=(15,4))\r\n",
        "\r\n",
        "i=1\r\n",
        "for pclass in data['Pclass'].unique():\r\n",
        "    fig.add_subplot(1, 3, i)\r\n",
        "    plt.title('Class : {}'.format(pclass))\r\n",
        "    data.Survived[data['Pclass'] == pclass].value_counts().plot(kind='pie')\r\n",
        "    i += 1"
      ],
      "execution_count": 143,
      "outputs": [
        {
          "output_type": "display_data",
          "data": {
            "image/png": "[encoded data removed]",
            "text/plain": [
              "<Figure size 1080x288 with 3 Axes>"
            ]
          },
          "metadata": {
            "tags": []
          }
        }
      ]
    },
    {
      "cell_type": "code",
      "metadata": {
        "id": "yKnZJq8TctwZ"
      },
      "source": [
        "data['Pclass'] = StandardScaler().fit_transform(data['Pclass'].values.reshape(-1, 1))"
      ],
      "execution_count": 144,
      "outputs": []
    },
    {
      "cell_type": "code",
      "metadata": {
        "colab": {
          "base_uri": "https://localhost:8080/",
          "height": 466
        },
        "id": "TNis7YU_czHh",
        "outputId": "75bf08ae-8c51-4fae-cf3b-67de67557284"
      },
      "source": [
        "fig = plt.figure(figsize=(15,8))\r\n",
        "i = 0\r\n",
        "for parch in data['Parch'].unique():\r\n",
        "    fig.add_subplot(2, 4, i+1)\r\n",
        "    plt.title('Parents / Child : {}'.format(parch))\r\n",
        "    data.Survived[data['Parch'] == parch].value_counts().plot(kind='pie')\r\n",
        "    i += 1"
      ],
      "execution_count": 145,
      "outputs": [
        {
          "output_type": "display_data",
          "data": {
            "image/png": "[encoded data removed]",
            "text/plain": [
              "<Figure size 1080x576 with 7 Axes>"
            ]
          },
          "metadata": {
            "tags": []
          }
        }
      ]
    },
    {
      "cell_type": "code",
      "metadata": {
        "id": "Dy3kmHvfc13F"
      },
      "source": [
        "replacement = {\r\n",
        "    6: 0,\r\n",
        "    4: 0,\r\n",
        "    5: 1,\r\n",
        "    0: 2,\r\n",
        "    2: 3,\r\n",
        "    1: 4,\r\n",
        "    3: 5\r\n",
        "}\r\n",
        "data['Parch'] = data['Parch'].apply(lambda x: replacement.get(x))\r\n",
        "data['Parch'] = StandardScaler().fit_transform(data['Parch'].values.reshape(-1, 1))"
      ],
      "execution_count": 146,
      "outputs": []
    },
    {
      "cell_type": "code",
      "metadata": {
        "id": "kW7SdTBfc49Z"
      },
      "source": [
        "\r\n",
        "data.drop('Ticket', axis=1, inplace=True)"
      ],
      "execution_count": 147,
      "outputs": []
    },
    {
      "cell_type": "code",
      "metadata": {
        "colab": {
          "base_uri": "https://localhost:8080/"
        },
        "id": "hEfsnOo3c79E",
        "outputId": "215eccc6-409a-46e9-d103-5ca8df551ad2"
      },
      "source": [
        "data['Embarked'].value_counts()"
      ],
      "execution_count": 148,
      "outputs": [
        {
          "output_type": "execute_result",
          "data": {
            "text/plain": [
              "S    644\n",
              "C    168\n",
              "Q     77\n",
              "Name: Embarked, dtype: int64"
            ]
          },
          "metadata": {
            "tags": []
          },
          "execution_count": 148
        }
      ]
    },
    {
      "cell_type": "code",
      "metadata": {
        "colab": {
          "base_uri": "https://localhost:8080/",
          "height": 264
        },
        "id": "aXsKcVATc_4X",
        "outputId": "450a4e53-2134-40d6-8801-d3f0d4fbc767"
      },
      "source": [
        "\r\n",
        "data['Embarked'].fillna('S', inplace=True)\r\n",
        "fig = plt.figure(figsize=(15,4))\r\n",
        "i = 1\r\n",
        "for embarked in data['Embarked'].unique():\r\n",
        "    fig.add_subplot(1, 3, i)\r\n",
        "    plt.title('Embarked : {}'.format(embarked))\r\n",
        "    data.Survived[data['Embarked'] == embarked].value_counts().plot(kind='pie')\r\n",
        "    i += 1"
      ],
      "execution_count": 149,
      "outputs": [
        {
          "output_type": "display_data",
          "data": {
            "image/png": "[encoded data removed]",
            "text/plain": [
              "<Figure size 1080x288 with 3 Axes>"
            ]
          },
          "metadata": {
            "tags": []
          }
        }
      ]
    },
    {
      "cell_type": "code",
      "metadata": {
        "colab": {
          "base_uri": "https://localhost:8080/"
        },
        "id": "f990kOYBdCTe",
        "outputId": "9db87c7a-f067-4985-8cc7-46504eca34a9"
      },
      "source": [
        "replacement = {\r\n",
        "    'S': 0,\r\n",
        "    'Q': 1,\r\n",
        "    'C': 2\r\n",
        "}\r\n",
        "\r\n",
        "data['Embarked'] = data['Embarked'].apply(lambda x: replacement.get(x))\r\n",
        "data['Embarked'] = StandardScaler().fit_transform(data['Embarked'].values.reshape(-1, 1))\r\n",
        "data.head()['Embarked']"
      ],
      "execution_count": 150,
      "outputs": [
        {
          "output_type": "execute_result",
          "data": {
            "text/plain": [
              "0   -0.585954\n",
              "1    1.942303\n",
              "2   -0.585954\n",
              "3   -0.585954\n",
              "4   -0.585954\n",
              "Name: Embarked, dtype: float64"
            ]
          },
          "metadata": {
            "tags": []
          },
          "execution_count": 150
        }
      ]
    },
    {
      "cell_type": "code",
      "metadata": {
        "colab": {
          "base_uri": "https://localhost:8080/"
        },
        "id": "_enuYAMAdFAd",
        "outputId": "049042af-bcb9-4bcb-d1ec-bf114382fd0e"
      },
      "source": [
        "data['SibSp'].unique()\r\n"
      ],
      "execution_count": 151,
      "outputs": [
        {
          "output_type": "execute_result",
          "data": {
            "text/plain": [
              "array([1, 0, 3, 4, 2, 5, 8])"
            ]
          },
          "metadata": {
            "tags": []
          },
          "execution_count": 151
        }
      ]
    },
    {
      "cell_type": "code",
      "metadata": {
        "colab": {
          "base_uri": "https://localhost:8080/",
          "height": 466
        },
        "id": "XapHictJdIoO",
        "outputId": "d126c272-7317-4f8a-e094-f80050631431"
      },
      "source": [
        "fig = plt.figure(figsize=(15,8))\r\n",
        "i = 1\r\n",
        "for sibsp in data['SibSp'].unique():\r\n",
        "    fig.add_subplot(2, 4, i)\r\n",
        "    plt.title('SibSp : {}'.format(sibsp))\r\n",
        "    data.Survived[data['SibSp'] == sibsp].value_counts().plot(kind='pie')\r\n",
        "    i += 1"
      ],
      "execution_count": 152,
      "outputs": [
        {
          "output_type": "display_data",
          "data": {
            "image/png": "[encoded data removed]",
            "text/plain": [
              "<Figure size 1080x576 with 7 Axes>"
            ]
          },
          "metadata": {
            "tags": []
          }
        }
      ]
    },
    {
      "cell_type": "code",
      "metadata": {
        "colab": {
          "base_uri": "https://localhost:8080/"
        },
        "id": "OzXwukfDdOe_",
        "outputId": "7d4788b8-e588-4c75-d3e8-3d7e09cf57d4"
      },
      "source": [
        "replacement = {\r\n",
        "    5: 0,\r\n",
        "    8: 0,\r\n",
        "    4: 1,\r\n",
        "    3: 2,\r\n",
        "    0: 3,\r\n",
        "    2: 4,\r\n",
        "    1: 5\r\n",
        "}\r\n",
        "\r\n",
        "data['SibSp'] = data['SibSp'].apply(lambda x: replacement.get(x))\r\n",
        "data['SibSp'] = StandardScaler().fit_transform(data['SibSp'].values.reshape(-1, 1))\r\n",
        "data.head()['SibSp']\r\n"
      ],
      "execution_count": 153,
      "outputs": [
        {
          "output_type": "execute_result",
          "data": {
            "text/plain": [
              "0    1.576109\n",
              "1    1.576109\n",
              "2   -0.396241\n",
              "3    1.576109\n",
              "4   -0.396241\n",
              "Name: SibSp, dtype: float64"
            ]
          },
          "metadata": {
            "tags": []
          },
          "execution_count": 153
        }
      ]
    },
    {
      "cell_type": "code",
      "metadata": {
        "colab": {
          "base_uri": "https://localhost:8080/"
        },
        "id": "WzNHknMndT6Y",
        "outputId": "e5c2de18-2a81-4870-d788-c776f28d2d7d"
      },
      "source": [
        "data['Cabin'].fillna('U', inplace=True)\r\n",
        "data['Cabin'] = data['Cabin'].apply(lambda x: x[0])\r\n",
        "data['Cabin'].unique()\r\n"
      ],
      "execution_count": 154,
      "outputs": [
        {
          "output_type": "execute_result",
          "data": {
            "text/plain": [
              "array(['U', 'C', 'E', 'G', 'D', 'A', 'B', 'F', 'T'], dtype=object)"
            ]
          },
          "metadata": {
            "tags": []
          },
          "execution_count": 154
        }
      ]
    },
    {
      "cell_type": "code",
      "metadata": {
        "colab": {
          "base_uri": "https://localhost:8080/",
          "height": 699
        },
        "id": "Fozz2O9JdX6r",
        "outputId": "f8dfbed2-d86f-498a-b3b1-d84dcd02e726"
      },
      "source": [
        "fig = plt.figure(figsize=(15,12))\r\n",
        "i = 1\r\n",
        "for cabin in data['Cabin'].unique():\r\n",
        "    fig.add_subplot(3, 3, i)\r\n",
        "    plt.title('Cabin : {}'.format(cabin))\r\n",
        "    data.Survived[data['Cabin'] == cabin].value_counts().plot(kind='pie')\r\n",
        "    i += 1"
      ],
      "execution_count": 155,
      "outputs": [
        {
          "output_type": "display_data",
          "data": {
            "image/png": "[encoded data removed]",
            "text/plain": [
              "<Figure size 1080x864 with 9 Axes>"
            ]
          },
          "metadata": {
            "tags": []
          }
        }
      ]
    },
    {
      "cell_type": "code",
      "metadata": {
        "colab": {
          "base_uri": "https://localhost:8080/"
        },
        "id": "QENOgtqzdaTg",
        "outputId": "73812c1a-853e-482b-eb75-bbe38a19e4a5"
      },
      "source": [
        "replacement = {\r\n",
        "    'T': 0,\r\n",
        "    'U': 1,\r\n",
        "    'A': 2,\r\n",
        "    'G': 3,\r\n",
        "    'C': 4,\r\n",
        "    'F': 5,\r\n",
        "    'B': 6,\r\n",
        "    'E': 7,\r\n",
        "    'D': 8\r\n",
        "}\r\n",
        "\r\n",
        "data['Cabin'] = data['Cabin'].apply(lambda x: replacement.get(x))\r\n",
        "data['Cabin'] = StandardScaler().fit_transform(data['Cabin'].values.reshape(-1, 1))\r\n",
        "data.head()['Cabin']"
      ],
      "execution_count": 156,
      "outputs": [
        {
          "output_type": "execute_result",
          "data": {
            "text/plain": [
              "0   -0.494813\n",
              "1    0.960231\n",
              "2   -0.494813\n",
              "3    0.960231\n",
              "4   -0.494813\n",
              "Name: Cabin, dtype: float64"
            ]
          },
          "metadata": {
            "tags": []
          },
          "execution_count": 156
        }
      ]
    },
    {
      "cell_type": "code",
      "metadata": {
        "colab": {
          "base_uri": "https://localhost:8080/",
          "height": 195
        },
        "id": "WcesLeRddd1y",
        "outputId": "3f0d9a78-56b6-461a-9942-330694c11f9d"
      },
      "source": [
        "data.head()"
      ],
      "execution_count": 157,
      "outputs": [
        {
          "output_type": "execute_result",
          "data": {
            "text/html": [
              "<div>\n",
              "<style scoped>\n",
              "    .dataframe tbody tr th:only-of-type {\n",
              "        vertical-align: middle;\n",
              "    }\n",
              "\n",
              "    .dataframe tbody tr th {\n",
              "        vertical-align: top;\n",
              "    }\n",
              "\n",
              "    .dataframe thead th {\n",
              "        text-align: right;\n",
              "    }\n",
              "</style>\n",
              "<table border=\"1\" class=\"dataframe\">\n",
              "  <thead>\n",
              "    <tr style=\"text-align: right;\">\n",
              "      <th></th>\n",
              "      <th>PassengerId</th>\n",
              "      <th>Survived</th>\n",
              "      <th>Pclass</th>\n",
              "      <th>Name</th>\n",
              "      <th>Sex</th>\n",
              "      <th>Age</th>\n",
              "      <th>SibSp</th>\n",
              "      <th>Parch</th>\n",
              "      <th>Fare</th>\n",
              "      <th>Cabin</th>\n",
              "      <th>Embarked</th>\n",
              "    </tr>\n",
              "  </thead>\n",
              "  <tbody>\n",
              "    <tr>\n",
              "      <th>0</th>\n",
              "      <td>1</td>\n",
              "      <td>0</td>\n",
              "      <td>0.827377</td>\n",
              "      <td>-0.797294</td>\n",
              "      <td>1</td>\n",
              "      <td>-0.557420</td>\n",
              "      <td>1.576109</td>\n",
              "      <td>-0.468807</td>\n",
              "      <td>-0.502445</td>\n",
              "      <td>-0.494813</td>\n",
              "      <td>-0.585954</td>\n",
              "    </tr>\n",
              "    <tr>\n",
              "      <th>1</th>\n",
              "      <td>2</td>\n",
              "      <td>1</td>\n",
              "      <td>-1.566107</td>\n",
              "      <td>1.537975</td>\n",
              "      <td>0</td>\n",
              "      <td>0.649410</td>\n",
              "      <td>1.576109</td>\n",
              "      <td>-0.468807</td>\n",
              "      <td>0.786845</td>\n",
              "      <td>0.960231</td>\n",
              "      <td>1.942303</td>\n",
              "    </tr>\n",
              "    <tr>\n",
              "      <th>2</th>\n",
              "      <td>3</td>\n",
              "      <td>1</td>\n",
              "      <td>0.827377</td>\n",
              "      <td>1.070922</td>\n",
              "      <td>0</td>\n",
              "      <td>-0.255712</td>\n",
              "      <td>-0.396241</td>\n",
              "      <td>-0.468807</td>\n",
              "      <td>-0.488854</td>\n",
              "      <td>-0.494813</td>\n",
              "      <td>-0.585954</td>\n",
              "    </tr>\n",
              "    <tr>\n",
              "      <th>3</th>\n",
              "      <td>4</td>\n",
              "      <td>1</td>\n",
              "      <td>-1.566107</td>\n",
              "      <td>1.537975</td>\n",
              "      <td>0</td>\n",
              "      <td>0.423129</td>\n",
              "      <td>1.576109</td>\n",
              "      <td>-0.468807</td>\n",
              "      <td>0.420730</td>\n",
              "      <td>0.960231</td>\n",
              "      <td>-0.585954</td>\n",
              "    </tr>\n",
              "    <tr>\n",
              "      <th>4</th>\n",
              "      <td>5</td>\n",
              "      <td>0</td>\n",
              "      <td>0.827377</td>\n",
              "      <td>-0.797294</td>\n",
              "      <td>1</td>\n",
              "      <td>0.423129</td>\n",
              "      <td>-0.396241</td>\n",
              "      <td>-0.468807</td>\n",
              "      <td>-0.486337</td>\n",
              "      <td>-0.494813</td>\n",
              "      <td>-0.585954</td>\n",
              "    </tr>\n",
              "  </tbody>\n",
              "</table>\n",
              "</div>"
            ],
            "text/plain": [
              "   PassengerId  Survived    Pclass  ...      Fare     Cabin  Embarked\n",
              "0            1         0  0.827377  ... -0.502445 -0.494813 -0.585954\n",
              "1            2         1 -1.566107  ...  0.786845  0.960231  1.942303\n",
              "2            3         1  0.827377  ... -0.488854 -0.494813 -0.585954\n",
              "3            4         1 -1.566107  ...  0.420730  0.960231 -0.585954\n",
              "4            5         0  0.827377  ... -0.486337 -0.494813 -0.585954\n",
              "\n",
              "[5 rows x 11 columns]"
            ]
          },
          "metadata": {
            "tags": []
          },
          "execution_count": 157
        }
      ]
    },
    {
      "cell_type": "code",
      "metadata": {
        "id": "MdfZyVXldgBj"
      },
      "source": [
        "\r\n",
        "from sklearn.model_selection import train_test_split\r\n",
        "survived = data['Survived']\r\n",
        "data.drop('Survived', axis=1, inplace=True)\r\n",
        "X_train, X_test, y_train, y_test = train_test_split(data, survived, test_size=0.2, random_state=42)"
      ],
      "execution_count": 158,
      "outputs": []
    },
    {
      "cell_type": "code",
      "metadata": {
        "id": "UfwPp4zJdiZk",
        "colab": {
          "base_uri": "https://localhost:8080/"
        },
        "outputId": "2124a9d2-b264-48fe-e663-f41434bc4a90"
      },
      "source": [
        "from sklearn.neural_network import MLPClassifier\r\n",
        "from sklearn.neighbors import KNeighborsClassifier\r\n",
        "from sklearn.svm import SVC\r\n",
        "from sklearn.gaussian_process import GaussianProcessClassifier\r\n",
        "from sklearn.tree import DecisionTreeClassifier\r\n",
        "from sklearn.ensemble import RandomForestClassifier, AdaBoostClassifier\r\n",
        "from sklearn.naive_bayes import GaussianNB\r\n",
        "from sklearn.discriminant_analysis import QuadraticDiscriminantAnalysis\r\n",
        "\r\n",
        "models = [\r\n",
        "    RandomForestClassifier(bootstrap=True, class_weight=None, criterion='entropy',\r\n",
        "                       max_depth=10, max_features='sqrt', max_leaf_nodes=None,\r\n",
        "                       min_impurity_decrease=0.0, min_impurity_split=None,\r\n",
        "                       min_samples_leaf=5, min_samples_split=2,\r\n",
        "                       min_weight_fraction_leaf=0.0, n_estimators=6,\r\n",
        "                       n_jobs=None, oob_score=False, random_state=None,\r\n",
        "                       verbose=0, warm_start=False),\r\n",
        "    MLPClassifier(),\r\n",
        "    KNeighborsClassifier(),\r\n",
        "    SVC(),\r\n",
        "    GaussianProcessClassifier(),\r\n",
        "    DecisionTreeClassifier(),\r\n",
        "    AdaBoostClassifier(),\r\n",
        "    QuadraticDiscriminantAnalysis(),\r\n",
        "\r\n",
        "]\r\n",
        "\r\n",
        "for model in models:\r\n",
        "    model.fit(X_train, y_train)\r\n",
        "    score = model.score(X_test, y_test)\r\n",
        "    print(score)"
      ],
      "execution_count": 163,
      "outputs": [
        {
          "output_type": "stream",
          "text": [
            "0.8379888268156425\n",
            "0.8100558659217877\n",
            "0.6256983240223464\n",
            "0.5865921787709497\n",
            "0.6815642458100558\n",
            "0.7877094972067039\n",
            "0.7988826815642458\n",
            "0.770949720670391\n"
          ],
          "name": "stdout"
        }
      ]
    },
    {
      "cell_type": "code",
      "metadata": {
        "id": "f3pTF8MUdk3Y"
      },
      "source": [
        ""
      ],
      "execution_count": 159,
      "outputs": []
    }
  ]
}